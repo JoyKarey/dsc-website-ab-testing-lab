{
  "cells": [
    {
      "cell_type": "markdown",
      "metadata": {
        "id": "mxYT8F26oCo6"
      },
      "source": [
        "# Website A/B Testing - Lab\n",
        "\n",
        "## Introduction\n",
        "\n",
        "In this lab, you'll get another chance to practice your skills at conducting a full A/B test analysis. It will also be a chance to practice your data exploration and processing skills! The scenario you'll be investigating is data collected from the homepage of a music app page for audacity.\n",
        "\n",
        "## Objectives\n",
        "\n",
        "You will be able to:\n",
        "* Analyze the data from a website A/B test to draw relevant conclusions\n",
        "* Explore and analyze web action data"
      ]
    },
    {
      "cell_type": "markdown",
      "metadata": {
        "id": "FwszB-JIoCo_"
      },
      "source": [
        "## Exploratory Analysis\n",
        "\n",
        "Start by loading in the dataset stored in the file 'homepage_actions.csv'. Then conduct an exploratory analysis to get familiar with the data."
      ]
    },
    {
      "cell_type": "markdown",
      "metadata": {
        "id": "xjfJ5KX_oCpA"
      },
      "source": [
        "> Hints:\n",
        "    * Start investigating the id column:\n",
        "        * How many viewers also clicked?\n",
        "        * Are there any anomalies with the data; did anyone click who didn't view?\n",
        "        * Is there any overlap between the control and experiment groups? \n",
        "            * If so, how do you plan to account for this in your experimental design?"
      ]
    },
    {
      "cell_type": "code",
      "execution_count": 3,
      "metadata": {
        "id": "yPIpy02KoCpB"
      },
      "outputs": [],
      "source": [
        "#Your code here\n",
        "import pandas as pd\n",
        "data = pd.read_csv('homepage_actions.csv')\n"
      ]
    },
    {
      "cell_type": "code",
      "source": [
        "#Getting an overview\n",
        "print(data.head())\n",
        "print(data.info())\n"
      ],
      "metadata": {
        "colab": {
          "base_uri": "https://localhost:8080/"
        },
        "id": "aDRL5Vqlppm0",
        "outputId": "e4524b4f-debd-4025-8f56-b77973ba6395"
      },
      "execution_count": 5,
      "outputs": [
        {
          "output_type": "stream",
          "name": "stdout",
          "text": [
            "                    timestamp      id       group action\n",
            "0  2016-09-24 17:42:27.839496  804196  experiment   view\n",
            "1  2016-09-24 19:19:03.542569  434745  experiment   view\n",
            "2  2016-09-24 19:36:00.944135  507599  experiment   view\n",
            "3  2016-09-24 19:59:02.646620  671993     control   view\n",
            "4  2016-09-24 20:26:14.466886  536734  experiment   view\n",
            "<class 'pandas.core.frame.DataFrame'>\n",
            "RangeIndex: 8188 entries, 0 to 8187\n",
            "Data columns (total 4 columns):\n",
            " #   Column     Non-Null Count  Dtype \n",
            "---  ------     --------------  ----- \n",
            " 0   timestamp  8188 non-null   object\n",
            " 1   id         8188 non-null   int64 \n",
            " 2   group      8188 non-null   object\n",
            " 3   action     8188 non-null   object\n",
            "dtypes: int64(1), object(3)\n",
            "memory usage: 256.0+ KB\n",
            "None\n"
          ]
        }
      ]
    },
    {
      "cell_type": "code",
      "source": [
        "#viewers who clicked\n",
        "clicked = data[data['action'] == 'click']\n",
        "viewed_and_clicked = clicked['id'].nunique()\n",
        "total_viewed = data[data['action'] == 'view']['id'].nunique()\n",
        "print(\"Number of viewers who also clicked:\", viewed_and_clicked)\n",
        "print(\"Total number of viewers:\", total_viewed)\n"
      ],
      "metadata": {
        "colab": {
          "base_uri": "https://localhost:8080/"
        },
        "id": "kOwpah2EqtKx",
        "outputId": "89264ae6-021b-4f1e-a40b-b656295eb880"
      },
      "execution_count": 7,
      "outputs": [
        {
          "output_type": "stream",
          "name": "stdout",
          "text": [
            "Number of viewers who also clicked: 1860\n",
            "Total number of viewers: 6328\n"
          ]
        }
      ]
    },
    {
      "cell_type": "code",
      "source": [
        "#anomalies ; clicked without viewing\n",
        "clicked_without_viewed = clicked[~clicked['id'].isin(data[data['action'] == 'view']['id'])]\n",
        "print(\"Clicked without viewing:\")\n",
        "print(clicked_without_viewed)\n"
      ],
      "metadata": {
        "colab": {
          "base_uri": "https://localhost:8080/"
        },
        "id": "NnnrvSxPq2S_",
        "outputId": "c25a8230-b5c8-455e-9e16-392e8c097199"
      },
      "execution_count": 8,
      "outputs": [
        {
          "output_type": "stream",
          "name": "stdout",
          "text": [
            "Clicked without viewing:\n",
            "Empty DataFrame\n",
            "Columns: [timestamp, id, group, action]\n",
            "Index: []\n"
          ]
        }
      ]
    },
    {
      "cell_type": "code",
      "source": [
        "#overlap between control and experiment group\n",
        "control_ids = data[data['group'] == 'control']['id'].unique()\n",
        "experiment_ids = data[data['group'] == 'experiment']['id'].unique()\n",
        "overlap = set(control_ids).intersection(experiment_ids)\n",
        "print(\"Overlap between control and experiment groups:\")\n",
        "print(overlap)\n"
      ],
      "metadata": {
        "colab": {
          "base_uri": "https://localhost:8080/"
        },
        "id": "bXF8R4XprXP4",
        "outputId": "d8cc5123-0f5d-43bf-ba62-6b980fc4857c"
      },
      "execution_count": 9,
      "outputs": [
        {
          "output_type": "stream",
          "name": "stdout",
          "text": [
            "Overlap between control and experiment groups:\n",
            "set()\n"
          ]
        }
      ]
    },
    {
      "cell_type": "markdown",
      "metadata": {
        "id": "8tiWydK-oCpD"
      },
      "source": [
        "## Conduct a Statistical Test\n",
        "\n",
        "Conduct a statistical test to determine whether the experimental homepage was more effective than that of the control group."
      ]
    },
    {
      "cell_type": "code",
      "execution_count": 10,
      "metadata": {
        "colab": {
          "base_uri": "https://localhost:8080/"
        },
        "id": "ylmHJvT7oCpE",
        "outputId": "00ad098f-ac6e-4b91-82b6-64c76c5e623a"
      },
      "outputs": [
        {
          "output_type": "stream",
          "name": "stdout",
          "text": [
            "Chi-squared test statistic: 3.636160051233291\n",
            "P-value: 0.056537191086915774\n"
          ]
        }
      ],
      "source": [
        "#Your code here\n",
        "from scipy.stats import chi2_contingency\n",
        "contingency_table = pd.crosstab(data['group'], data['action'])\n",
        "stat, p, dof, expected = chi2_contingency(contingency_table)\n",
        "print(\"Chi-squared test statistic:\", stat)\n",
        "print(\"P-value:\", p)\n",
        "\n"
      ]
    },
    {
      "cell_type": "markdown",
      "metadata": {
        "id": "7tOx9IouoCpE"
      },
      "source": [
        "## Verifying Results\n",
        "\n",
        "One sensible formulation of the data to answer the hypothesis test above would be to create a binary variable representing each individual in the experiment and control group. This binary variable would represent whether or not that individual clicked on the homepage; 1 for they did and 0 if they did not. \n",
        "\n",
        "The variance for the number of successes in a sample of a binomial variable with n observations is given by:\n",
        "\n",
        "## $n\\bullet p (1-p)$\n",
        "\n",
        "Given this, perform 3 steps to verify the results of your statistical test:\n",
        "1. Calculate the expected number of clicks for the experiment group, if it had the same click-through rate as that of the control group. \n",
        "2. Calculate the number of standard deviations that the actual number of clicks was from this estimate. \n",
        "3. Finally, calculate a p-value using the normal distribution based on this z-score."
      ]
    },
    {
      "cell_type": "markdown",
      "metadata": {
        "id": "4RUV-jmToCpF"
      },
      "source": [
        "### Step 1:\n",
        "Calculate the expected number of clicks for the experiment group, if it had the same click-through rate as that of the control group. "
      ]
    },
    {
      "cell_type": "code",
      "execution_count": 11,
      "metadata": {
        "colab": {
          "base_uri": "https://localhost:8080/"
        },
        "id": "ZcfB15ySoCpG",
        "outputId": "595e5ceb-ecd6-4ad9-ea78-dd1d7d025bef"
      },
      "outputs": [
        {
          "output_type": "stream",
          "name": "stdout",
          "text": [
            "Expected number of clicks for the experiment group: 838.0168067226891\n"
          ]
        }
      ],
      "source": [
        "#Your code here\n",
        "control_group = data[data['group'] == 'control']\n",
        "experiment_group = data[data['group'] == 'experiment']\n",
        "\n",
        "control_clicks = control_group[control_group['action'] == 'click']['id'].nunique()\n",
        "control_views = control_group[control_group['action'] == 'view']['id'].nunique()\n",
        "control_ctr = control_clicks / control_views\n",
        "\n",
        "experiment_views = experiment_group[experiment_group['action'] == 'view']['id'].nunique()\n",
        "expected_experiment_clicks = experiment_views * control_ctr\n",
        "\n",
        "print(\"Expected number of clicks for the experiment group:\", expected_experiment_clicks)\n"
      ]
    },
    {
      "cell_type": "markdown",
      "metadata": {
        "id": "5pmKBqHNoCpG"
      },
      "source": [
        "### Step 2:\n",
        "Calculate the number of standard deviations that the actual number of clicks was from this estimate."
      ]
    },
    {
      "cell_type": "code",
      "execution_count": 12,
      "metadata": {
        "colab": {
          "base_uri": "https://localhost:8080/"
        },
        "id": "nGbPFZ9UoCpH",
        "outputId": "bd0b2ad7-04ff-40e3-9057-4ee28c000228"
      },
      "outputs": [
        {
          "output_type": "stream",
          "name": "stdout",
          "text": [
            "Number of standard deviations from the estimate: 3.6625360854823588\n"
          ]
        }
      ],
      "source": [
        "#Your code here\n",
        "variance = experiment_views * control_ctr * (1 - control_ctr)\n",
        "std_dev = variance ** 0.5\n",
        "actual_experiment_clicks = experiment_group[experiment_group['action'] == 'click']['id'].nunique()\n",
        "z_score = (actual_experiment_clicks - expected_experiment_clicks) / std_dev\n",
        "\n",
        "print(\"Number of standard deviations from the estimate:\", z_score)\n"
      ]
    },
    {
      "cell_type": "markdown",
      "metadata": {
        "id": "GzbnHWsdoCpH"
      },
      "source": [
        "### Step 3: \n",
        "Finally, calculate a p-value using the normal distribution based on this z-score."
      ]
    },
    {
      "cell_type": "code",
      "execution_count": 13,
      "metadata": {
        "colab": {
          "base_uri": "https://localhost:8080/"
        },
        "id": "0X6snC1koCpI",
        "outputId": "db90602f-45b2-441c-fa93-54763f7c1e0d"
      },
      "outputs": [
        {
          "output_type": "stream",
          "name": "stdout",
          "text": [
            "P-value based on normal distribution: 0.00012486528006949715\n"
          ]
        }
      ],
      "source": [
        "#Your code here\n",
        "from scipy.stats import norm\n",
        "\n",
        "p_value = 1 - norm.cdf(z_score)\n",
        "print(\"P-value based on normal distribution:\", p_value)\n"
      ]
    },
    {
      "cell_type": "markdown",
      "metadata": {
        "id": "clMH_5JcoCpI"
      },
      "source": [
        "### Analysis:\n",
        "\n",
        "Does this result roughly match that of the previous statistical test?\n",
        "\n",
        "> Comment: **Your analysis here**"
      ]
    },
    {
      "cell_type": "code",
      "source": [
        "\"\"\" The difference in p-values could arise from the different assumptions and underlying statistical models used by the two tests. Additionally, the chi-squared test is more conservative as it considers the overall association between the variables, whereas the calculation based on the normal distribution focuses specifically on the number of clicks.\"\"\""
      ],
      "metadata": {
        "colab": {
          "base_uri": "https://localhost:8080/",
          "height": 70
        },
        "id": "ZJbMMHsfttm0",
        "outputId": "8f168051-cfd6-480c-d761-29ed31e6465c"
      },
      "execution_count": 14,
      "outputs": [
        {
          "output_type": "execute_result",
          "data": {
            "text/plain": [
              "' The difference in p-values could arise from the different assumptions and underlying statistical models used by the two tests. Additionally, the chi-squared test is more conservative as it considers the overall association between the variables, whereas the calculation based on the normal distribution focuses specifically on the number of clicks.'"
            ],
            "application/vnd.google.colaboratory.intrinsic+json": {
              "type": "string"
            }
          },
          "metadata": {},
          "execution_count": 14
        }
      ]
    },
    {
      "cell_type": "markdown",
      "metadata": {
        "id": "3Rq8KVl-oCpI"
      },
      "source": [
        "## Summary\n",
        "\n",
        "In this lab, you continued to get more practice designing and conducting AB tests. This required additional work preprocessing and formulating the initial problem in a suitable manner. Additionally, you also saw how to verify results, strengthening your knowledge of binomial variables, and reviewing initial statistical concepts of the central limit theorem, standard deviation, z-scores, and their accompanying p-values."
      ]
    }
  ],
  "metadata": {
    "kernelspec": {
      "display_name": "Python 3",
      "language": "python",
      "name": "python3"
    },
    "language_info": {
      "codemirror_mode": {
        "name": "ipython",
        "version": 3
      },
      "file_extension": ".py",
      "mimetype": "text/x-python",
      "name": "python",
      "nbconvert_exporter": "python",
      "pygments_lexer": "ipython3",
      "version": "3.6.6"
    },
    "colab": {
      "provenance": []
    }
  },
  "nbformat": 4,
  "nbformat_minor": 0
}